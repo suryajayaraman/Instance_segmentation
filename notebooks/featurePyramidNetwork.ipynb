{
 "cells": [
  {
   "cell_type": "code",
   "execution_count": 4,
   "id": "f726fca0",
   "metadata": {},
   "outputs": [],
   "source": [
    "import torch\n",
    "import torchvision\n",
    "\n",
    "from collections import OrderedDict"
   ]
  },
  {
   "cell_type": "code",
   "execution_count": 2,
   "id": "8513c39c",
   "metadata": {},
   "outputs": [],
   "source": [
    "m = torchvision.ops.FeaturePyramidNetwork([10, 20, 30], 5)"
   ]
  },
  {
   "cell_type": "code",
   "execution_count": 5,
   "id": "d6b77d17",
   "metadata": {},
   "outputs": [],
   "source": [
    "x = OrderedDict()\n",
    "x['feat0'] = torch.rand(1, 10, 64, 64)\n",
    "x['feat2'] = torch.rand(1, 20, 16, 16)\n",
    "x['feat3'] = torch.rand(1, 30, 8, 8)"
   ]
  },
  {
   "cell_type": "code",
   "execution_count": 6,
   "id": "2ae93485",
   "metadata": {},
   "outputs": [],
   "source": [
    "m.eval();"
   ]
  },
  {
   "cell_type": "code",
   "execution_count": 7,
   "id": "17c0d81d",
   "metadata": {},
   "outputs": [
    {
     "name": "stderr",
     "output_type": "stream",
     "text": [
      "D:\\surya\\miniconda37\\envs\\imgseg\\lib\\site-packages\\torch\\onnx\\utils.py:363: UserWarning: Skipping _decide_input_format\n",
      " -1\n",
      "  warnings.warn(\"Skipping _decide_input_format\\n {}\".format(e.args[0]))\n",
      "D:\\surya\\miniconda37\\envs\\imgseg\\lib\\site-packages\\torch\\onnx\\utils.py:1294: UserWarning: Provided key input for dynamic axes is not a valid input/output name\n",
      "  warnings.warn(\"Provided key {} for dynamic axes is not a valid input/output name\".format(key))\n",
      "D:\\surya\\miniconda37\\envs\\imgseg\\lib\\site-packages\\torch\\onnx\\utils.py:1294: UserWarning: Provided key output for dynamic axes is not a valid input/output name\n",
      "  warnings.warn(\"Provided key {} for dynamic axes is not a valid input/output name\".format(key))\n",
      "D:\\surya\\miniconda37\\envs\\imgseg\\lib\\site-packages\\torch\\onnx\\symbolic_helper.py:382: UserWarning: You are trying to export the model with onnx:Resize for ONNX opset version 10. This operator might cause results to not match the expected results by PyTorch.\n",
      "ONNX's Upsample/Resize operator did not match Pytorch's Interpolation until opset 11. Attributes to determine how to transform the input were added in onnx:Resize in opset 11 to support Pytorch's behavior (like coordinate_transformation_mode and nearest_mode).\n",
      "We recommend using opset 11 and above for models using this operator.\n",
      "  \"\" + str(_export_onnx_opset_version) + \". \"\n"
     ]
    }
   ],
   "source": [
    "# Export the model\n",
    "torch.onnx.export(m,               # model being run\n",
    "                  x,                         # model input (or a tuple for multiple inputs)\n",
    "                  \"FPN.onnx\",   # where to save the model (can be a file or file-like object)\n",
    "                  export_params=True,        # store the trained parameter weights inside the model file\n",
    "                  opset_version=10,          # the ONNX version to export the model to\n",
    "                  do_constant_folding=True,  # whether to execute constant folding for optimization\n",
    "                  input_names = ['FPN Input'],   # the model's input names\n",
    "                  output_names = ['FPN Output'], # the model's output names\n",
    "                  dynamic_axes={'input' : {0 : 'batch_size'},    # variable length axes\n",
    "                                'output' : {0 : 'batch_size'}})"
   ]
  },
  {
   "cell_type": "code",
   "execution_count": 12,
   "id": "5221b98f",
   "metadata": {},
   "outputs": [],
   "source": [
    "temp = torch.randint(0,4, (1,2,4,4))"
   ]
  },
  {
   "cell_type": "code",
   "execution_count": 13,
   "id": "1d3d8533",
   "metadata": {},
   "outputs": [
    {
     "data": {
      "text/plain": [
       "tensor([[[[1, 0, 0, 0],\n",
       "          [0, 2, 2, 3],\n",
       "          [0, 2, 3, 3],\n",
       "          [2, 3, 0, 1]],\n",
       "\n",
       "         [[1, 2, 3, 3],\n",
       "          [3, 2, 1, 1],\n",
       "          [2, 0, 0, 1],\n",
       "          [1, 0, 3, 0]]]])"
      ]
     },
     "execution_count": 13,
     "metadata": {},
     "output_type": "execute_result"
    }
   ],
   "source": [
    "temp"
   ]
  },
  {
   "cell_type": "code",
   "execution_count": 14,
   "id": "fd9145b3",
   "metadata": {},
   "outputs": [],
   "source": [
    "import torch.nn.functional as F"
   ]
  },
  {
   "cell_type": "code",
   "execution_count": 18,
   "id": "d6338f38",
   "metadata": {},
   "outputs": [
    {
     "data": {
      "text/plain": [
       "tensor([[[[1., 0.],\n",
       "          [0., 3.]],\n",
       "\n",
       "         [[1., 3.],\n",
       "          [2., 0.]]]])"
      ]
     },
     "execution_count": 18,
     "metadata": {},
     "output_type": "execute_result"
    }
   ],
   "source": [
    "F.max_pool2d(temp.float(), 1, 2, 0)"
   ]
  },
  {
   "cell_type": "code",
   "execution_count": null,
   "id": "07e47f5d",
   "metadata": {},
   "outputs": [],
   "source": []
  }
 ],
 "metadata": {
  "kernelspec": {
   "display_name": "python(imgseg)",
   "language": "python",
   "name": "imgseg"
  },
  "language_info": {
   "codemirror_mode": {
    "name": "ipython",
    "version": 3
   },
   "file_extension": ".py",
   "mimetype": "text/x-python",
   "name": "python",
   "nbconvert_exporter": "python",
   "pygments_lexer": "ipython3",
   "version": "3.7.0"
  }
 },
 "nbformat": 4,
 "nbformat_minor": 5
}
